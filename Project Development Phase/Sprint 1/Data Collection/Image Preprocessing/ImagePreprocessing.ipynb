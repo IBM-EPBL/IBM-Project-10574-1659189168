{
 "cells": [
  {
   "cell_type": "code",
   "execution_count": 8,
   "id": "3d182ce2",
   "metadata": {},
   "outputs": [
    {
     "name": "stdout",
     "output_type": "stream",
     "text": [
      "Found 594 images belonging to 6 classes.\n",
      "Found 30 images belonging to 6 classes.\n"
     ]
    }
   ],
   "source": [
    "from keras.preprocessing.image import ImageDataGenerator\n",
    "train_datagen = ImageDataGenerator(rescale=1./255, shear_range=0.2, zoom_range=0.2, horizontal_flip=True)\n",
    "test_datagen = ImageDataGenerator(rescale=1./255)\n",
    "x_train = train_datagen.flow_from_directory('.\\\\Dataset\\\\train',target_size=(64,64), batch_size=5, class_mode='categorical',color_mode='grayscale')\n",
    "x_test = train_datagen.flow_from_directory('.\\\\Dataset\\\\test',target_size=(64,64), batch_size=5, class_mode='categorical',color_mode='grayscale')"
   ]
  },
  {
   "cell_type": "code",
   "execution_count": null,
   "id": "c96f6274",
   "metadata": {},
   "outputs": [],
   "source": []
  }
 ],
 "metadata": {
  "kernelspec": {
   "display_name": "Python 3.10.0 64-bit",
   "language": "python",
   "name": "python3"
  },
  "language_info": {
   "codemirror_mode": {
    "name": "ipython",
    "version": 3
   },
   "file_extension": ".py",
   "mimetype": "text/x-python",
   "name": "python",
   "nbconvert_exporter": "python",
   "pygments_lexer": "ipython3",
   "version": "3.10.0"
  },
  "vscode": {
   "interpreter": {
    "hash": "bc52b3d33955f5fd984c17d07d76494f71fa3a92eb466ea71d45c004da6dae02"
   }
  }
 },
 "nbformat": 4,
 "nbformat_minor": 5
}
