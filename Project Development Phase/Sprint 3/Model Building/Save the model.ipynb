{
 "cells": [
  {
   "cell_type": "code",
   "execution_count": 2,
   "id": "16ee54f5",
   "metadata": {},
   "outputs": [
    {
     "name": "stderr",
     "output_type": "stream",
     "text": [
      "E:\\DeveloperTools\\python\\Installation\\lib\\site-packages\\requests\\__init__.py:102: RequestsDependencyWarning: urllib3 (1.26.8) or chardet (5.0.0)/charset_normalizer (2.0.12) doesn't match a supported version!\n",
      "  warnings.warn(\"urllib3 ({}) or chardet ({})/charset_normalizer ({}) doesn't match a supported \"\n"
     ]
    }
   ],
   "source": [
    "import tensorflow as tf\n",
    "from tensorflow.keras import layers,losses\n",
    "from tensorflow.keras.models import Sequential, Model, load_model\n",
    "from tensorflow.keras.layers import Dropout,Input,Flatten,Dense,MaxPooling2D,Conv2D,Convolution2D,Activation\n",
    "from tensorflow.keras.preprocessing.image import ImageDataGenerator\n",
    "from keras import regularizers\n",
    "from keras.layers import BatchNormalization\n",
    "import keras\n",
    "import numpy as np\n",
    "from tensorflow.keras.callbacks import ModelCheckpoint,EarlyStopping, ReduceLROnPlateau"
   ]
  },
  {
   "cell_type": "code",
   "execution_count": 3,
   "id": "b6307cfb",
   "metadata": {},
   "outputs": [
    {
     "name": "stdout",
     "output_type": "stream",
     "text": [
      "Found 594 images belonging to 6 classes.\n",
      "Found 30 images belonging to 6 classes.\n",
      "{'0': 0, '1': 1, '2': 2, '3': 3, '4': 4, '5': 5}\n"
     ]
    }
   ],
   "source": [
    "train_datagen = ImageDataGenerator(rescale=1./255,shear_range=0.2,zoom_range=0.2,horizontal_flip=True)\n",
    "test_datagen=ImageDataGenerator(rescale=1./255)\n",
    "x_train = train_datagen.flow_from_directory('.\\\\Dataset\\\\train',target_size=(64,64), batch_size=5, class_mode='categorical',color_mode='grayscale')\n",
    "x_test = train_datagen.flow_from_directory('.\\\\Dataset\\\\test',target_size=(64,64), batch_size=5, class_mode='categorical',color_mode='grayscale')\n",
    "print(x_train.class_indices)"
   ]
  },
  {
   "cell_type": "code",
   "execution_count": 4,
   "id": "3226999c",
   "metadata": {},
   "outputs": [],
   "source": [
    "model = Sequential()"
   ]
  },
  {
   "cell_type": "code",
   "execution_count": 5,
   "id": "2ea44c64",
   "metadata": {},
   "outputs": [],
   "source": [
    "# Initializing the CNN\n",
    "model = Sequential()\n",
    "model.add(Convolution2D(32, (3, 3), input_shape=(64, 64, 1), activation='relu'))\n",
    "model.add(MaxPooling2D(pool_size=(2, 2)))\n",
    "model.add(Convolution2D(32, (3, 3), activation='relu'))\n",
    "model.add(MaxPooling2D(pool_size=(2,2)))\n",
    "model.add(Flatten())\n"
   ]
  },
  {
   "cell_type": "code",
   "execution_count": 6,
   "id": "04015f6e",
   "metadata": {},
   "outputs": [],
   "source": [
    "model.add(Dense(units=128 , activation='relu'))\n",
    "model.add(Dense(units=6, activation='softmax'))"
   ]
  },
  {
   "cell_type": "code",
   "execution_count": 7,
   "id": "2128ef25",
   "metadata": {},
   "outputs": [
    {
     "name": "stdout",
     "output_type": "stream",
     "text": [
      "Model: \"sequential_1\"\n",
      "_________________________________________________________________\n",
      " Layer (type)                Output Shape              Param #   \n",
      "=================================================================\n",
      " conv2d (Conv2D)             (None, 62, 62, 32)        320       \n",
      "                                                                 \n",
      " max_pooling2d (MaxPooling2D  (None, 31, 31, 32)       0         \n",
      " )                                                               \n",
      "                                                                 \n",
      " conv2d_1 (Conv2D)           (None, 29, 29, 32)        9248      \n",
      "                                                                 \n",
      " max_pooling2d_1 (MaxPooling  (None, 14, 14, 32)       0         \n",
      " 2D)                                                             \n",
      "                                                                 \n",
      " flatten (Flatten)           (None, 6272)              0         \n",
      "                                                                 \n",
      " dense (Dense)               (None, 128)               802944    \n",
      "                                                                 \n",
      " dense_1 (Dense)             (None, 6)                 774       \n",
      "                                                                 \n",
      "=================================================================\n",
      "Total params: 813,286\n",
      "Trainable params: 813,286\n",
      "Non-trainable params: 0\n",
      "_________________________________________________________________\n"
     ]
    }
   ],
   "source": [
    "model.summary()"
   ]
  },
  {
   "cell_type": "code",
   "execution_count": 8,
   "id": "5fab311e",
   "metadata": {},
   "outputs": [],
   "source": [
    "#Compiling the CNN\n",
    "#Catergorical_crossentropy for more than 2\n",
    "model.compile(optimizer = 'adam', loss='categorical_crossentropy', metrics=['accuracy'])"
   ]
  },
  {
   "cell_type": "code",
   "execution_count": 9,
   "id": "14f62586",
   "metadata": {},
   "outputs": [
    {
     "name": "stderr",
     "output_type": "stream",
     "text": [
      "C:\\Users\\praka\\AppData\\Local\\Temp\\ipykernel_15348\\1221793511.py:2: UserWarning: `Model.fit_generator` is deprecated and will be removed in a future version. Please use `Model.fit`, which supports generators.\n",
      "  model.fit_generator(\n"
     ]
    },
    {
     "name": "stdout",
     "output_type": "stream",
     "text": [
      "Epoch 1/20\n",
      "119/119 [==============================] - 8s 64ms/step - loss: 1.5560 - accuracy: 0.3805\n",
      "Epoch 2/20\n",
      "119/119 [==============================] - 3s 25ms/step - loss: 0.9214 - accuracy: 0.6448\n",
      "Epoch 3/20\n",
      "119/119 [==============================] - 3s 22ms/step - loss: 0.6393 - accuracy: 0.7576\n",
      "Epoch 4/20\n",
      "119/119 [==============================] - 3s 23ms/step - loss: 0.4973 - accuracy: 0.8098\n",
      "Epoch 5/20\n",
      "119/119 [==============================] - 3s 24ms/step - loss: 0.4197 - accuracy: 0.8418\n",
      "Epoch 6/20\n",
      "119/119 [==============================] - 3s 23ms/step - loss: 0.3081 - accuracy: 0.8754\n",
      "Epoch 7/20\n",
      "119/119 [==============================] - 2s 20ms/step - loss: 0.2787 - accuracy: 0.8939\n",
      "Epoch 8/20\n",
      "119/119 [==============================] - 2s 20ms/step - loss: 0.1887 - accuracy: 0.9411\n",
      "Epoch 9/20\n",
      "119/119 [==============================] - 3s 23ms/step - loss: 0.1723 - accuracy: 0.9360\n",
      "Epoch 10/20\n",
      "119/119 [==============================] - 3s 22ms/step - loss: 0.1700 - accuracy: 0.9428\n",
      "Epoch 11/20\n",
      "119/119 [==============================] - 3s 23ms/step - loss: 0.1550 - accuracy: 0.9377\n",
      "Epoch 12/20\n",
      "119/119 [==============================] - 3s 24ms/step - loss: 0.1353 - accuracy: 0.9562\n",
      "Epoch 13/20\n",
      "119/119 [==============================] - 3s 24ms/step - loss: 0.0596 - accuracy: 0.9848\n",
      "Epoch 14/20\n",
      "119/119 [==============================] - 3s 26ms/step - loss: 0.1358 - accuracy: 0.9596\n",
      "Epoch 15/20\n",
      "119/119 [==============================] - 3s 25ms/step - loss: 0.0586 - accuracy: 0.9832\n",
      "Epoch 16/20\n",
      "119/119 [==============================] - 3s 23ms/step - loss: 0.0777 - accuracy: 0.9714\n",
      "Epoch 17/20\n",
      "119/119 [==============================] - 3s 24ms/step - loss: 0.0672 - accuracy: 0.9697\n",
      "Epoch 18/20\n",
      "119/119 [==============================] - 3s 24ms/step - loss: 0.0393 - accuracy: 0.9848\n",
      "Epoch 19/20\n",
      "119/119 [==============================] - 3s 23ms/step - loss: 0.0321 - accuracy: 0.9899\n",
      "Epoch 20/20\n",
      "119/119 [==============================] - 3s 23ms/step - loss: 0.1256 - accuracy: 0.9529\n"
     ]
    },
    {
     "data": {
      "text/plain": [
       "<keras.callbacks.History at 0x1f3e0195660>"
      ]
     },
     "execution_count": 9,
     "metadata": {},
     "output_type": "execute_result"
    }
   ],
   "source": [
    "#Fitting tha Model\n",
    "model.fit_generator(\n",
    "    generator = x_train, \n",
    "    steps_per_epoch = len(x_train),\n",
    "    epochs = 20, \n",
    "    validation_steps = len(x_test)#Number of images in Test Set\n",
    ")"
   ]
  },
  {
   "cell_type": "code",
   "execution_count": 10,
   "id": "71b3fcf8",
   "metadata": {},
   "outputs": [],
   "source": [
    "model.save('gesture.h5')"
   ]
  }
 ],
 "metadata": {
  "kernelspec": {
   "display_name": "Python 3 (ipykernel)",
   "language": "python",
   "name": "python3"
  },
  "language_info": {
   "codemirror_mode": {
    "name": "ipython",
    "version": 3
   },
   "file_extension": ".py",
   "mimetype": "text/x-python",
   "name": "python",
   "nbconvert_exporter": "python",
   "pygments_lexer": "ipython3",
   "version": "3.10.0"
  }
 },
 "nbformat": 4,
 "nbformat_minor": 5
}
